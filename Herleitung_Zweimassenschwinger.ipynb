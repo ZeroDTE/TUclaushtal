{
 "cells": [
  {
   "cell_type": "markdown",
   "id": "d860c7a5-a28c-465f-bd2c-98797b1651af",
   "metadata": {},
   "source": [
    "### Modellierung des ungedämpften Zweimassenschwingers\n",
    "\n",
    "Der ungedämpfte Zweimassenschwinger besteht aus zwei Massen $M_1$ und $M_2$  die durch Federn mit Federkonstanten $K_1$ und $K_2$ gekoppelt sind. Beide Massen sind entlang einer Achse beweglich und weisen keine Dämpfung auf. Ziel dieser Modellierung ist es, die Bewegungsgleichungen des Systems herzuleiten und die Schwingungen der beiden Massen zu analysieren.\n",
    "\n",
    "#### Systembeschreibung und Herleitung der Bewegungsgleichungen\n",
    "\n",
    "- $k_1$: Federkonstante der Feder zwischen der festen Wand und  $M_1$.\n",
    "- $k_2$: Federkonstante der Feder zwischen $M_1$ und $M_2$.\n",
    "- $M_1$: Masse 1.\n",
    "- $M_2$: Masse 2.\n",
    "- $x_1(t)$: Position der Masse $M_1$ zu einem Zeitpunkt $t$.\n",
    "- $x_2(t)$: Position der Masse $M_2$ zu einem Zeitpunkt $t$.\n",
    "\n",
    "**1. Annahmen:**\n",
    "- Keine Dämpfung im System.\n",
    "- Beide Massen bewegen sich nur in horizontaler Richtung.\n",
    "- Die Federn gehorchen dem Hooke'schen Gesetz (lineare Federn).\n",
    "\n",
    "**2. Differentialgleichungen des Systems:**\n",
    "\n",
    "Die Bewegung der Massen $M_1$ und $M_2$ kann durch die Newton'schen Bewegungsgleichungen beschrieben werden. Die Kräfte, die auf die Massen wirken, ergeben sich aus den Federkräften.\n",
    "\n",
    "Für $M_1$:\n",
    "$M_1 \\ddot{x}_1 = -k_1 x_1 + k_2 (x_2 - x_1) $\n",
    "\n",
    "Für $M_2$:\n",
    "$ M_2 \\ddot{x}_2 = -k_2 (x_2 - x_1) $\n",
    "\n",
    "\n",
    "**3. Umstellung der Gleichungen:**\n",
    "\n",
    "Um die Gleichungen einfacher zu lösen, werden sie in eine Standardform gebracht. Dazu wird durch die Massen \\(M_1\\) bzw. \\(M_2\\) dividiert.\n",
    "\n",
    "Für $M_1$:\n",
    "$ \\ddot{x}_1 = -\\frac{k_1}{M_1} x_1 + \\frac{k_2}{M_1} (x_2 - x_1) $\n",
    "\n",
    "Für $M_2$:\n",
    "$ \\ddot{x}_2 = -\\frac{k_2}{M_2} (x_2 - x_1) $\n",
    "\n",
    "Diese können weiter vereinfacht werden, indem neue Parameter eingeführt werden:\n",
    "$\\omega_{01}^2 = \\frac{k_1}{M_1} $\n",
    "$ \\omega_{02}^2 = \\frac{k_2}{M_1} $\n",
    "$ \\omega_{03}^2 = \\frac{k_2}{M_2} $\n",
    "\n",
    "Damit erhalten wir:\n",
    "$ \\ddot{x}_1 + (\\omega_{01}^2 + \\omega_{02}^2) x_1 - \\omega_{02}^2 x_2 = 0 $\n",
    "$ \\ddot{x}_2 - \\omega_{02}^2 x_1 + \\omega_{03}^2 x_2 = 0 $\n",
    "\n"
   ]
  },
  {
   "cell_type": "markdown",
   "id": "a30494b8-8e4f-4f0e-9ad1-7cb1e3383def",
   "metadata": {},
   "source": [
    "### Erklärung der Implementierung:\n",
    "\n",
    "1. **Parameterdefinition:**\n",
    "   - Die Parameter $omega_{01}$, $omega_{02}$ und $omega_{03}$ werden direkt im Code definiert.\n",
    "\n",
    "2. **Differentialgleichungen:**\n",
    "   - Die Funktion `zweimassenschwinger` definiert die Bewegungsgleichungen des Systems.\n",
    "\n",
    "3. **Anfangsbedingungen:**\n",
    "   - Die Anfangsauslenkungen und -geschwindigkeiten der Massen werden gesetzt.\n",
    "\n",
    "4. **Numerische Lösung:**\n",
    "   - `solve_ivp` von `scipy.integrate` wird verwendet, um die Differentialgleichungen über die Zeitspanne `t_span` mit `t_eval` als Auswertungspunkten zu lösen.\n",
    "\n",
    "5. **Visualisierung:**\n",
    "   - `matplotlib` wird verwendet, um die Auslenkungen $x_1(t)$ und $x_2(t)$ über die Zeit zu plotten.\n"
   ]
  }
 ],
 "metadata": {
  "kernelspec": {
   "display_name": "Python 3 (ipykernel)",
   "language": "python",
   "name": "python3"
  },
  "language_info": {
   "codemirror_mode": {
    "name": "ipython",
    "version": 3
   },
   "file_extension": ".py",
   "mimetype": "text/x-python",
   "name": "python",
   "nbconvert_exporter": "python",
   "pygments_lexer": "ipython3",
   "version": "3.11.5"
  }
 },
 "nbformat": 4,
 "nbformat_minor": 5
}
